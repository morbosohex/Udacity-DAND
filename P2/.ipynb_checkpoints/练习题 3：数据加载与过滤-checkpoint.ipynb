{
 "cells": [
  {
   "cell_type": "markdown",
   "metadata": {},
   "source": [
    "### 数据加载与过滤"
   ]
  },
  {
   "cell_type": "markdown",
   "metadata": {},
   "source": [
    "#### 在下面的测试中，你将实现 load_data() 函数，你也可以直接在项目中使用这个函数。共有以下四个步骤：\n",
    "\n",
    "- **加载指定城市的数据集。** 索引 global CITY_DATA 字典对象来获取指定城市名对应的文件名。\n",
    "- **创建 month 以及 day_of_week 列。**将 \"Start Time\" 列转换为 datetime，并使用 datetime 模块分列提取 month number（月份数）和 weekday name （星期名）。\n",
    "- **根据月份筛选。**由于 month 参数是以月份名称给出的，你首先需要将其转换为对应的月份数字。接着，选择包含指定月份的 dataframe 行，并重新为 dataframe 赋值。\n",
    "- **根据星期名筛选。**选择包含指定星期名的 dataframe 行，并重新为其分配 dataframe。（注意：请使用 title() 方法将 day 参数首字母大写，与 day_of_week 列中使用的首字母大写对应。）"
   ]
  },
  {
   "cell_type": "code",
   "execution_count": 2,
   "metadata": {},
   "outputs": [],
   "source": [
    "import pandas as pd"
   ]
  },
  {
   "cell_type": "code",
   "execution_count": 3,
   "metadata": {},
   "outputs": [],
   "source": [
    "CITY_DATA = {'chicago': 'chicago.csv',\n",
    "             'new york city': 'new_york_city.csv',\n",
    "             'washington': 'washington.csv'}"
   ]
  },
  {
   "cell_type": "code",
   "execution_count": 4,
   "metadata": {},
   "outputs": [],
   "source": [
    "def load_data(city, month, day):\n",
    "    \"\"\"\n",
    "    \n",
    "    Loads data for the specified city and filters \n",
    "    by month and day if applicable.\n",
    "    \n",
    "    Args:\n",
    "        (str) city - name of the city to analyze\n",
    "        (str) month - name of the month to filter by, or 'all' to apply no month filiter\n",
    "        (str) day - name of the day of week to filter by, or 'all' to apply no day filiter\n",
    "    Returns:\n",
    "        df - pandas DataFrame containing city data filtered by month and day\n",
    "    \"\"\"\n",
    "    \n",
    "    # load data file into a dataframe\n",
    "    df = pd.read_csv(CITY_DATA[city])\n",
    "    \n",
    "    # convert the Start Time column to datatime\n",
    "    df['Start Time'] = pd.to_datetime(df['Start Time'])\n",
    "    \n",
    "    # extract month and day of week from Start Time to create new columns\n",
    "    df['month'] = df['Start Time'].dt.month\n",
    "    df['day_of_week'] = df['Start Time'].dt.weekday_name\n",
    "    df['hour'] = df['Start Time'].dt.hour\n",
    "    \n",
    "    # filter by month if applicable\n",
    "    if month != 'all':\n",
    "        # use the index of the months list to get the corresponding int\n",
    "        months = ['january', 'february', 'march', 'april', 'may', 'june']\n",
    "        month = months.index(month) + 1\n",
    "        \n",
    "        # filter by month to create the new dataframe\n",
    "        df = df[df['month'] == month]\n",
    "        \n",
    "    # filter by day of week if applicable\n",
    "    if day != 'all':\n",
    "        # filter by day of week to create the new dataframe\n",
    "        df = df[df['day_of_week'] == day.title()]\n",
    "        \n",
    "    return df\n",
    "    "
   ]
  },
  {
   "cell_type": "code",
   "execution_count": 5,
   "metadata": {},
   "outputs": [],
   "source": [
    "sample = load_data('chicago','february','Tuesday')"
   ]
  },
  {
   "cell_type": "code",
   "execution_count": 6,
   "metadata": {},
   "outputs": [
    {
     "data": {
      "text/html": [
       "<div>\n",
       "<style scoped>\n",
       "    .dataframe tbody tr th:only-of-type {\n",
       "        vertical-align: middle;\n",
       "    }\n",
       "\n",
       "    .dataframe tbody tr th {\n",
       "        vertical-align: top;\n",
       "    }\n",
       "\n",
       "    .dataframe thead th {\n",
       "        text-align: right;\n",
       "    }\n",
       "</style>\n",
       "<table border=\"1\" class=\"dataframe\">\n",
       "  <thead>\n",
       "    <tr style=\"text-align: right;\">\n",
       "      <th></th>\n",
       "      <th>Unnamed: 0</th>\n",
       "      <th>Start Time</th>\n",
       "      <th>End Time</th>\n",
       "      <th>Trip Duration</th>\n",
       "      <th>Start Station</th>\n",
       "      <th>End Station</th>\n",
       "      <th>User Type</th>\n",
       "      <th>Gender</th>\n",
       "      <th>Birth Year</th>\n",
       "      <th>month</th>\n",
       "      <th>day_of_week</th>\n",
       "      <th>hour</th>\n",
       "    </tr>\n",
       "  </thead>\n",
       "  <tbody>\n",
       "    <tr>\n",
       "      <th>147</th>\n",
       "      <td>273417</td>\n",
       "      <td>2017-02-28 07:39:05</td>\n",
       "      <td>2017-02-28 07:45:04</td>\n",
       "      <td>359</td>\n",
       "      <td>Kingsbury St &amp; Kinzie St</td>\n",
       "      <td>Michigan Ave &amp; Lake St</td>\n",
       "      <td>Subscriber</td>\n",
       "      <td>Male</td>\n",
       "      <td>1991.0</td>\n",
       "      <td>2</td>\n",
       "      <td>Tuesday</td>\n",
       "      <td>7</td>\n",
       "    </tr>\n",
       "    <tr>\n",
       "      <th>174</th>\n",
       "      <td>275028</td>\n",
       "      <td>2017-02-28 10:03:30</td>\n",
       "      <td>2017-02-28 10:16:45</td>\n",
       "      <td>795</td>\n",
       "      <td>Damen Ave &amp; Augusta Blvd</td>\n",
       "      <td>Winchester Ave &amp; Elston Ave</td>\n",
       "      <td>Subscriber</td>\n",
       "      <td>Male</td>\n",
       "      <td>1972.0</td>\n",
       "      <td>2</td>\n",
       "      <td>Tuesday</td>\n",
       "      <td>10</td>\n",
       "    </tr>\n",
       "    <tr>\n",
       "      <th>243</th>\n",
       "      <td>175166</td>\n",
       "      <td>2017-02-14 21:03:32</td>\n",
       "      <td>2017-02-14 21:12:28</td>\n",
       "      <td>536</td>\n",
       "      <td>Ellis Ave &amp; 60th St</td>\n",
       "      <td>Kimbark Ave &amp; 53rd St</td>\n",
       "      <td>Subscriber</td>\n",
       "      <td>Female</td>\n",
       "      <td>1981.0</td>\n",
       "      <td>2</td>\n",
       "      <td>Tuesday</td>\n",
       "      <td>21</td>\n",
       "    </tr>\n",
       "    <tr>\n",
       "      <th>294</th>\n",
       "      <td>236346</td>\n",
       "      <td>2017-02-21 17:42:05</td>\n",
       "      <td>2017-02-21 17:50:49</td>\n",
       "      <td>524</td>\n",
       "      <td>Clark St &amp; Congress Pkwy</td>\n",
       "      <td>Michigan Ave &amp; 18th St</td>\n",
       "      <td>Subscriber</td>\n",
       "      <td>Male</td>\n",
       "      <td>1978.0</td>\n",
       "      <td>2</td>\n",
       "      <td>Tuesday</td>\n",
       "      <td>17</td>\n",
       "    </tr>\n",
       "    <tr>\n",
       "      <th>398</th>\n",
       "      <td>234788</td>\n",
       "      <td>2017-02-21 16:35:11</td>\n",
       "      <td>2017-02-21 16:51:10</td>\n",
       "      <td>959</td>\n",
       "      <td>Clark St &amp; Randolph St</td>\n",
       "      <td>Loomis St &amp; Taylor St (*)</td>\n",
       "      <td>Subscriber</td>\n",
       "      <td>Male</td>\n",
       "      <td>1984.0</td>\n",
       "      <td>2</td>\n",
       "      <td>Tuesday</td>\n",
       "      <td>16</td>\n",
       "    </tr>\n",
       "  </tbody>\n",
       "</table>\n",
       "</div>"
      ],
      "text/plain": [
       "     Unnamed: 0          Start Time             End Time  Trip Duration  \\\n",
       "147      273417 2017-02-28 07:39:05  2017-02-28 07:45:04            359   \n",
       "174      275028 2017-02-28 10:03:30  2017-02-28 10:16:45            795   \n",
       "243      175166 2017-02-14 21:03:32  2017-02-14 21:12:28            536   \n",
       "294      236346 2017-02-21 17:42:05  2017-02-21 17:50:49            524   \n",
       "398      234788 2017-02-21 16:35:11  2017-02-21 16:51:10            959   \n",
       "\n",
       "                Start Station                  End Station   User Type  \\\n",
       "147  Kingsbury St & Kinzie St       Michigan Ave & Lake St  Subscriber   \n",
       "174  Damen Ave & Augusta Blvd  Winchester Ave & Elston Ave  Subscriber   \n",
       "243       Ellis Ave & 60th St        Kimbark Ave & 53rd St  Subscriber   \n",
       "294  Clark St & Congress Pkwy       Michigan Ave & 18th St  Subscriber   \n",
       "398    Clark St & Randolph St    Loomis St & Taylor St (*)  Subscriber   \n",
       "\n",
       "     Gender  Birth Year  month day_of_week  hour  \n",
       "147    Male      1991.0      2     Tuesday     7  \n",
       "174    Male      1972.0      2     Tuesday    10  \n",
       "243  Female      1981.0      2     Tuesday    21  \n",
       "294    Male      1978.0      2     Tuesday    17  \n",
       "398    Male      1984.0      2     Tuesday    16  "
      ]
     },
     "execution_count": 6,
     "metadata": {},
     "output_type": "execute_result"
    }
   ],
   "source": [
    "sample.head()"
   ]
  },
  {
   "cell_type": "code",
   "execution_count": 10,
   "metadata": {},
   "outputs": [
    {
     "data": {
      "text/plain": [
       "723"
      ]
     },
     "execution_count": 10,
     "metadata": {},
     "output_type": "execute_result"
    }
   ],
   "source": [
    "sample['hour'].value_counts().max()"
   ]
  },
  {
   "cell_type": "code",
   "execution_count": null,
   "metadata": {},
   "outputs": [],
   "source": []
  },
  {
   "cell_type": "code",
   "execution_count": 7,
   "metadata": {},
   "outputs": [
    {
     "name": "stdout",
     "output_type": "stream",
     "text": [
      "<class 'pandas.core.frame.DataFrame'>\n",
      "RangeIndex: 300000 entries, 0 to 299999\n",
      "Data columns (total 12 columns):\n",
      "Unnamed: 0       300000 non-null int64\n",
      "Start Time       300000 non-null datetime64[ns]\n",
      "End Time         300000 non-null object\n",
      "Trip Duration    300000 non-null int64\n",
      "Start Station    300000 non-null object\n",
      "End Station      300000 non-null object\n",
      "User Type        300000 non-null object\n",
      "Gender           238948 non-null object\n",
      "Birth Year       238981 non-null float64\n",
      "month            300000 non-null int64\n",
      "day_of_week      300000 non-null object\n",
      "hour             300000 non-null int64\n",
      "dtypes: datetime64[ns](1), float64(1), int64(4), object(6)\n",
      "memory usage: 27.5+ MB\n"
     ]
    }
   ],
   "source": [
    "sample.info()"
   ]
  },
  {
   "cell_type": "code",
   "execution_count": 9,
   "metadata": {},
   "outputs": [
    {
     "data": {
      "text/plain": [
       "'Streeter Dr & Grand Ave'"
      ]
     },
     "execution_count": 9,
     "metadata": {},
     "output_type": "execute_result"
    }
   ],
   "source": [
    "sample['Start Station'].mode()[0]"
   ]
  },
  {
   "cell_type": "code",
   "execution_count": 10,
   "metadata": {},
   "outputs": [
    {
     "data": {
      "text/plain": [
       "'Streeter Dr & Grand Ave'"
      ]
     },
     "execution_count": 10,
     "metadata": {},
     "output_type": "execute_result"
    }
   ],
   "source": [
    "sample['End Station'].mode()[0]"
   ]
  },
  {
   "cell_type": "code",
   "execution_count": 25,
   "metadata": {
    "collapsed": true
   },
   "outputs": [
    {
     "data": {
      "text/plain": [
       "Start Station                 End Station                    \n",
       "2112 W Peterson Ave           2112 W Peterson Ave                 1\n",
       "                              Broadway & Granville Ave            1\n",
       "                              Broadway & Thorndale Ave            3\n",
       "                              Clark St & Berwyn Ave               5\n",
       "                              Clark St & Bryn Mawr Ave            1\n",
       "                              Clark St & Jarvis Ave               1\n",
       "                              Clark St & Winnemac Ave             2\n",
       "                              Lincoln Ave & Belle Plaine Ave      2\n",
       "                              Maplewood Ave & Peterson Ave        1\n",
       "                              Oakley Ave & Irving Park Rd         1\n",
       "                              Ravenswood Ave & Balmoral Ave       2\n",
       "                              Ravenswood Ave & Lawrence Ave       1\n",
       "                              Sheridan Rd & Greenleaf Ave         1\n",
       "                              Warren Park East                    8\n",
       "                              Washtenaw Ave & Lawrence Ave        4\n",
       "                              Western Ave & Lunt Ave              1\n",
       "63rd St Beach                 63rd St Beach                      30\n",
       "                              Burnham Harbor                      1\n",
       "                              Cornell Ave & Hyde Park Blvd        1\n",
       "                              Dorchester Ave & 63rd St            1\n",
       "                              DuSable Museum                      1\n",
       "                              Ellis Ave & 58th St                 1\n",
       "                              Ellis Ave & 60th St                 1\n",
       "                              Fort Dearborn Dr & 31st St          5\n",
       "                              Greenwood Ave & 47th St             1\n",
       "                              Harper Ave & 59th St                1\n",
       "                              Jeffery Blvd & 67th St              5\n",
       "                              Lake Park Ave & 47th St             4\n",
       "                              Lake Park Ave & 53rd St             6\n",
       "                              Lake Park Ave & 56th St             3\n",
       "                                                                 ..\n",
       "Woodlawn Ave & Lake Park Ave  Adler Planetarium                   1\n",
       "                              Blackstone Ave & Hyde Park Blvd     3\n",
       "                              Buckingham Fountain                 1\n",
       "                              Burnham Harbor                      4\n",
       "                              Cornell Ave & Hyde Park Blvd        1\n",
       "                              Cottage Grove Ave & 47th St         1\n",
       "                              Cottage Grove Ave & 51st St         2\n",
       "                              Dorchester Ave & 63rd St            1\n",
       "                              Ellis Ave & 55th St                 7\n",
       "                              Ellis Ave & 58th St                 4\n",
       "                              Greenwood Ave & 47th St             3\n",
       "                              Jeffery Blvd & 71st St              1\n",
       "                              Kimbark Ave & 53rd St               3\n",
       "                              Lake Park Ave & 35th St             3\n",
       "                              Lake Park Ave & 47th St            20\n",
       "                              Lake Park Ave & 53rd St             1\n",
       "                              Lake Park Ave & 56th St             4\n",
       "                              Lakeview Ave & Fullerton Pkwy       1\n",
       "                              MLK Jr Dr & 47th St                 2\n",
       "                              Michigan Ave & 8th St               1\n",
       "                              Museum of Science and Industry      1\n",
       "                              Prairie Ave & 43rd St               2\n",
       "                              Shore Dr & 55th St                  1\n",
       "                              South Shore Dr & 71st St            1\n",
       "                              Streeter Dr & Grand Ave             1\n",
       "                              University Ave & 57th St           21\n",
       "                              Woodlawn Ave & 55th St              9\n",
       "                              Woodlawn Ave & Lake Park Ave        4\n",
       "Yates Blvd & 75th St          Stony Island Ave & 71st St          1\n",
       "                              Yates Blvd & 75th St                3\n",
       "Length: 47115, dtype: int64"
      ]
     },
     "execution_count": 25,
     "metadata": {},
     "output_type": "execute_result"
    }
   ],
   "source": [
    "sample.groupby(['Start Station','End Station']).size()"
   ]
  },
  {
   "cell_type": "code",
   "execution_count": 27,
   "metadata": {},
   "outputs": [],
   "source": [
    "common = sample.groupby(['Start Station','End Station']).size().idxmax()"
   ]
  },
  {
   "cell_type": "code",
   "execution_count": 29,
   "metadata": {},
   "outputs": [
    {
     "data": {
      "text/plain": [
       "854"
      ]
     },
     "execution_count": 29,
     "metadata": {},
     "output_type": "execute_result"
    }
   ],
   "source": [
    "sample.groupby(['Start Station','End Station']).size().loc[common[0],common[1]]"
   ]
  },
  {
   "cell_type": "code",
   "execution_count": null,
   "metadata": {},
   "outputs": [],
   "source": []
  }
 ],
 "metadata": {
  "kernelspec": {
   "display_name": "Python [conda root]",
   "language": "python",
   "name": "conda-root-py"
  },
  "language_info": {
   "codemirror_mode": {
    "name": "ipython",
    "version": 3
   },
   "file_extension": ".py",
   "mimetype": "text/x-python",
   "name": "python",
   "nbconvert_exporter": "python",
   "pygments_lexer": "ipython3",
   "version": "3.6.6"
  }
 },
 "nbformat": 4,
 "nbformat_minor": 2
}
