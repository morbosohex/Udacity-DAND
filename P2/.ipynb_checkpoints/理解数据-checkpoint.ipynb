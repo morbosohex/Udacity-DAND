{
 "cells": [
  {
   "cell_type": "code",
   "execution_count": 1,
   "metadata": {},
   "outputs": [],
   "source": [
    "import pandas as pd"
   ]
  },
  {
   "cell_type": "code",
   "execution_count": 3,
   "metadata": {},
   "outputs": [],
   "source": [
    "df = pd.read_csv('chicago.csv')"
   ]
  },
  {
   "cell_type": "code",
   "execution_count": 5,
   "metadata": {},
   "outputs": [
    {
     "data": {
      "text/html": [
       "<div>\n",
       "<style scoped>\n",
       "    .dataframe tbody tr th:only-of-type {\n",
       "        vertical-align: middle;\n",
       "    }\n",
       "\n",
       "    .dataframe tbody tr th {\n",
       "        vertical-align: top;\n",
       "    }\n",
       "\n",
       "    .dataframe thead th {\n",
       "        text-align: right;\n",
       "    }\n",
       "</style>\n",
       "<table border=\"1\" class=\"dataframe\">\n",
       "  <thead>\n",
       "    <tr style=\"text-align: right;\">\n",
       "      <th></th>\n",
       "      <th>Start Time</th>\n",
       "      <th>End Time</th>\n",
       "      <th>Trip Duration</th>\n",
       "      <th>Start Station</th>\n",
       "      <th>End Station</th>\n",
       "      <th>User Type</th>\n",
       "      <th>Gender</th>\n",
       "      <th>Birth Year</th>\n",
       "    </tr>\n",
       "  </thead>\n",
       "  <tbody>\n",
       "    <tr>\n",
       "      <th>0</th>\n",
       "      <td>2017-05-29 18:36:27</td>\n",
       "      <td>2017-05-29 18:49:27</td>\n",
       "      <td>780</td>\n",
       "      <td>Columbus Dr &amp; Randolph St</td>\n",
       "      <td>Federal St &amp; Polk St</td>\n",
       "      <td>Subscriber</td>\n",
       "      <td>Male</td>\n",
       "      <td>1991.0</td>\n",
       "    </tr>\n",
       "    <tr>\n",
       "      <th>1</th>\n",
       "      <td>2017-06-12 19:00:33</td>\n",
       "      <td>2017-06-12 19:24:22</td>\n",
       "      <td>1429</td>\n",
       "      <td>Kingsbury St &amp; Erie St</td>\n",
       "      <td>Orleans St &amp; Merchandise Mart Plaza</td>\n",
       "      <td>Customer</td>\n",
       "      <td>NaN</td>\n",
       "      <td>NaN</td>\n",
       "    </tr>\n",
       "    <tr>\n",
       "      <th>2</th>\n",
       "      <td>2017-02-13 17:02:02</td>\n",
       "      <td>2017-02-13 17:20:10</td>\n",
       "      <td>1088</td>\n",
       "      <td>Canal St &amp; Madison St</td>\n",
       "      <td>Paulina Ave &amp; North Ave</td>\n",
       "      <td>Subscriber</td>\n",
       "      <td>Female</td>\n",
       "      <td>1982.0</td>\n",
       "    </tr>\n",
       "    <tr>\n",
       "      <th>3</th>\n",
       "      <td>2017-04-24 18:39:45</td>\n",
       "      <td>2017-04-24 18:54:59</td>\n",
       "      <td>914</td>\n",
       "      <td>Spaulding Ave &amp; Armitage Ave</td>\n",
       "      <td>California Ave &amp; Milwaukee Ave</td>\n",
       "      <td>Subscriber</td>\n",
       "      <td>Male</td>\n",
       "      <td>1966.0</td>\n",
       "    </tr>\n",
       "    <tr>\n",
       "      <th>4</th>\n",
       "      <td>2017-01-26 15:36:07</td>\n",
       "      <td>2017-01-26 15:43:21</td>\n",
       "      <td>434</td>\n",
       "      <td>Clark St &amp; Randolph St</td>\n",
       "      <td>Financial Pl &amp; Congress Pkwy</td>\n",
       "      <td>Subscriber</td>\n",
       "      <td>Female</td>\n",
       "      <td>1983.0</td>\n",
       "    </tr>\n",
       "  </tbody>\n",
       "</table>\n",
       "</div>"
      ],
      "text/plain": [
       "            Start Time             End Time  Trip Duration  \\\n",
       "0  2017-05-29 18:36:27  2017-05-29 18:49:27            780   \n",
       "1  2017-06-12 19:00:33  2017-06-12 19:24:22           1429   \n",
       "2  2017-02-13 17:02:02  2017-02-13 17:20:10           1088   \n",
       "3  2017-04-24 18:39:45  2017-04-24 18:54:59            914   \n",
       "4  2017-01-26 15:36:07  2017-01-26 15:43:21            434   \n",
       "\n",
       "                  Start Station                          End Station  \\\n",
       "0     Columbus Dr & Randolph St                 Federal St & Polk St   \n",
       "1        Kingsbury St & Erie St  Orleans St & Merchandise Mart Plaza   \n",
       "2         Canal St & Madison St              Paulina Ave & North Ave   \n",
       "3  Spaulding Ave & Armitage Ave       California Ave & Milwaukee Ave   \n",
       "4        Clark St & Randolph St         Financial Pl & Congress Pkwy   \n",
       "\n",
       "    User Type  Gender  Birth Year  \n",
       "0  Subscriber    Male      1991.0  \n",
       "1    Customer     NaN         NaN  \n",
       "2  Subscriber  Female      1982.0  \n",
       "3  Subscriber    Male      1966.0  \n",
       "4  Subscriber  Female      1983.0  "
      ]
     },
     "execution_count": 5,
     "metadata": {},
     "output_type": "execute_result"
    }
   ],
   "source": [
    "df.head()"
   ]
  },
  {
   "cell_type": "code",
   "execution_count": 6,
   "metadata": {},
   "outputs": [
    {
     "data": {
      "text/plain": [
       "Index(['Start Time', 'End Time', 'Trip Duration', 'Start Station',\n",
       "       'End Station', 'User Type', 'Gender', 'Birth Year'],\n",
       "      dtype='object')"
      ]
     },
     "execution_count": 6,
     "metadata": {},
     "output_type": "execute_result"
    }
   ],
   "source": [
    "df.columns"
   ]
  },
  {
   "cell_type": "code",
   "execution_count": 7,
   "metadata": {
    "collapsed": true
   },
   "outputs": [
    {
     "name": "stdout",
     "output_type": "stream",
     "text": [
      "<class 'pandas.core.frame.DataFrame'>\n",
      "RangeIndex: 400 entries, 0 to 399\n",
      "Data columns (total 8 columns):\n",
      "Start Time       400 non-null object\n",
      "End Time         400 non-null object\n",
      "Trip Duration    400 non-null int64\n",
      "Start Station    400 non-null object\n",
      "End Station      400 non-null object\n",
      "User Type        400 non-null object\n",
      "Gender           330 non-null object\n",
      "Birth Year       330 non-null float64\n",
      "dtypes: float64(1), int64(1), object(6)\n",
      "memory usage: 25.1+ KB\n"
     ]
    }
   ],
   "source": [
    "df.info()"
   ]
  },
  {
   "cell_type": "code",
   "execution_count": 10,
   "metadata": {},
   "outputs": [
    {
     "data": {
      "text/plain": [
       "<bound method IndexOpsMixin.value_counts of 0      Subscriber\n",
       "1        Customer\n",
       "2      Subscriber\n",
       "3      Subscriber\n",
       "4      Subscriber\n",
       "5      Subscriber\n",
       "6      Subscriber\n",
       "7      Subscriber\n",
       "8        Customer\n",
       "9      Subscriber\n",
       "10     Subscriber\n",
       "11     Subscriber\n",
       "12     Subscriber\n",
       "13     Subscriber\n",
       "14     Subscriber\n",
       "15     Subscriber\n",
       "16     Subscriber\n",
       "17     Subscriber\n",
       "18     Subscriber\n",
       "19     Subscriber\n",
       "20     Subscriber\n",
       "21     Subscriber\n",
       "22     Subscriber\n",
       "23     Subscriber\n",
       "24     Subscriber\n",
       "25     Subscriber\n",
       "26       Customer\n",
       "27     Subscriber\n",
       "28     Subscriber\n",
       "29     Subscriber\n",
       "          ...    \n",
       "370    Subscriber\n",
       "371    Subscriber\n",
       "372    Subscriber\n",
       "373    Subscriber\n",
       "374      Customer\n",
       "375    Subscriber\n",
       "376    Subscriber\n",
       "377      Customer\n",
       "378    Subscriber\n",
       "379    Subscriber\n",
       "380    Subscriber\n",
       "381    Subscriber\n",
       "382    Subscriber\n",
       "383      Customer\n",
       "384      Customer\n",
       "385    Subscriber\n",
       "386    Subscriber\n",
       "387    Subscriber\n",
       "388      Customer\n",
       "389    Subscriber\n",
       "390    Subscriber\n",
       "391    Subscriber\n",
       "392      Customer\n",
       "393    Subscriber\n",
       "394    Subscriber\n",
       "395    Subscriber\n",
       "396    Subscriber\n",
       "397      Customer\n",
       "398    Subscriber\n",
       "399    Subscriber\n",
       "Name: User Type, Length: 400, dtype: object>"
      ]
     },
     "execution_count": 10,
     "metadata": {},
     "output_type": "execute_result"
    }
   ],
   "source": [
    "df['User Type'].value_counts"
   ]
  },
  {
   "cell_type": "code",
   "execution_count": null,
   "metadata": {},
   "outputs": [],
   "source": []
  }
 ],
 "metadata": {
  "kernelspec": {
   "display_name": "Python [conda root]",
   "language": "python",
   "name": "conda-root-py"
  },
  "language_info": {
   "codemirror_mode": {
    "name": "ipython",
    "version": 3
   },
   "file_extension": ".py",
   "mimetype": "text/x-python",
   "name": "python",
   "nbconvert_exporter": "python",
   "pygments_lexer": "ipython3",
   "version": "3.6.6"
  }
 },
 "nbformat": 4,
 "nbformat_minor": 2
}
